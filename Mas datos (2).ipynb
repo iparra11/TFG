{
 "cells": [
  {
   "cell_type": "code",
   "execution_count": 45,
   "metadata": {},
   "outputs": [
    {
     "name": "stdout",
     "output_type": "stream",
     "text": [
      "Time : 101.0259006023407\n"
     ]
    }
   ],
   "source": [
    "import pandas as pd\n",
    "import numpy as np\n",
    "import matplotlib.pyplot as plt\n",
    "from sklearn.preprocessing import StandardScaler , MinMaxScaler\n",
    "import time\n",
    "\n",
    "import numpy as np\n",
    "import tensorflow as tf\n",
    "from tensorflow import keras\n",
    "from tensorflow.keras import layers\n",
    "from tensorflow.keras import Sequential\n",
    "from tensorflow.keras.layers import Dense , LSTM , Dropout\n",
    "\n",
    "t_0 = time.time()\n",
    "data = pd.read_csv (r'train.csv',nrows=1000000)   #,nrows=\n",
    "t_1 = time.time()\n",
    "print(f'Time : {t_1-t_0}')"
   ]
  },
  {
   "cell_type": "code",
   "execution_count": 46,
   "metadata": {},
   "outputs": [],
   "source": [
    "training_data = data[data['investment_id']<800]\n",
    "test_data = data[(data['investment_id']>=800) & (data['investment_id']<=1000)]\n",
    "\n",
    "training_data = training_data.drop(['row_id' , 'time_id' , 'investment_id' , 'target'], axis=1)\n",
    "test_data = test_data.drop(['row_id' , 'time_id' , 'investment_id' , 'target'], axis=1)\n",
    "training_data.reset_index(drop=True, inplace=True)\n",
    "test_data.reset_index(drop=True, inplace=True)"
   ]
  },
  {
   "cell_type": "code",
   "execution_count": 47,
   "metadata": {},
   "outputs": [],
   "source": [
    "x_train = []\n",
    "y_train = []"
   ]
  },
  {
   "cell_type": "code",
   "execution_count": 48,
   "metadata": {},
   "outputs": [],
   "source": [
    "for j in range(training_data.shape[0]):\n",
    "    for i in range(299,training_data.shape[1]):\n",
    "        x_train.append(training_data.loc[j][i-299:i])\n",
    "        y_train.append(training_data.loc[j][i])"
   ]
  },
  {
   "cell_type": "code",
   "execution_count": 49,
   "metadata": {},
   "outputs": [],
   "source": [
    "x_train , y_train = np.array(x_train) , np.array(y_train)"
   ]
  },
  {
   "cell_type": "code",
   "execution_count": 50,
   "metadata": {},
   "outputs": [],
   "source": [
    "from numpy import zeros, newaxis\n",
    "x_train = x_train[:, :, newaxis]"
   ]
  },
  {
   "cell_type": "code",
   "execution_count": 51,
   "metadata": {},
   "outputs": [
    {
     "data": {
      "text/plain": [
       "((212500, 299, 1), (212500,), numpy.ndarray, numpy.ndarray)"
      ]
     },
     "execution_count": 51,
     "metadata": {},
     "output_type": "execute_result"
    }
   ],
   "source": [
    "x_train.shape , y_train.shape , type(x_train) , type(y_train)"
   ]
  },
  {
   "cell_type": "code",
   "execution_count": 52,
   "metadata": {},
   "outputs": [],
   "source": [
    "regressior = Sequential()\n",
    "               \n",
    "regressior.add(LSTM(units = 50, activation = 'sigmoid', return_sequences = True, input_shape=(x_train.shape[1:])))\n",
    "regressior.add(Dropout(0.2))\n",
    "\n",
    "regressior.add(LSTM(units = 60, activation = 'tanh', return_sequences = True))\n",
    "regressior.add(Dropout(0.3))\n",
    "\n",
    "regressior.add(LSTM(units = 80, activation = 'sigmoid', return_sequences = True))\n",
    "regressior.add(Dropout(0.4))\n",
    "\n",
    "regressior.add(LSTM(units = 120, activation = 'tanh', ))\n",
    "regressior.add(Dropout(0.5))\n",
    "\n",
    "regressior.add(Dense(units = 1))"
   ]
  },
  {
   "cell_type": "code",
   "execution_count": 53,
   "metadata": {},
   "outputs": [
    {
     "name": "stdout",
     "output_type": "stream",
     "text": [
      "Model: \"sequential_3\"\n",
      "_________________________________________________________________\n",
      "Layer (type)                 Output Shape              Param #   \n",
      "=================================================================\n",
      "lstm_12 (LSTM)               (None, 299, 50)           10400     \n",
      "_________________________________________________________________\n",
      "dropout_12 (Dropout)         (None, 299, 50)           0         \n",
      "_________________________________________________________________\n",
      "lstm_13 (LSTM)               (None, 299, 60)           26640     \n",
      "_________________________________________________________________\n",
      "dropout_13 (Dropout)         (None, 299, 60)           0         \n",
      "_________________________________________________________________\n",
      "lstm_14 (LSTM)               (None, 299, 80)           45120     \n",
      "_________________________________________________________________\n",
      "dropout_14 (Dropout)         (None, 299, 80)           0         \n",
      "_________________________________________________________________\n",
      "lstm_15 (LSTM)               (None, 120)               96480     \n",
      "_________________________________________________________________\n",
      "dropout_15 (Dropout)         (None, 120)               0         \n",
      "_________________________________________________________________\n",
      "dense_3 (Dense)              (None, 1)                 121       \n",
      "=================================================================\n",
      "Total params: 178,761\n",
      "Trainable params: 178,761\n",
      "Non-trainable params: 0\n",
      "_________________________________________________________________\n"
     ]
    }
   ],
   "source": [
    "regressior.summary()"
   ]
  },
  {
   "cell_type": "code",
   "execution_count": 54,
   "metadata": {},
   "outputs": [],
   "source": [
    "regressior.compile(optimizer = 'adam', loss = 'mean_squared_error')"
   ]
  },
  {
   "cell_type": "code",
   "execution_count": null,
   "metadata": {
    "scrolled": true
   },
   "outputs": [
    {
     "name": "stdout",
     "output_type": "stream",
     "text": [
      "Epoch 1/10\n",
      "5226/6641 [======================>.......] - ETA: 54:27 - loss: 0.6066"
     ]
    }
   ],
   "source": [
    "t_0 = time.time()\n",
    "regressior.fit(x_train, y_train, epochs=10, batch_size=32)\n",
    "t_1 = time.time()\n",
    "print(f'Time : {t_1-t_0}')"
   ]
  },
  {
   "cell_type": "code",
   "execution_count": null,
   "metadata": {},
   "outputs": [],
   "source": [
    "x_test = []\n",
    "y_test = []"
   ]
  },
  {
   "cell_type": "code",
   "execution_count": null,
   "metadata": {},
   "outputs": [],
   "source": [
    "for j in range(test_data.shape[0]):\n",
    "    for i in range(299,test_data.shape[1]):\n",
    "        x_test.append(test_data.loc[j][i-299:i])\n",
    "        y_test.append(test_data.loc[j][i])"
   ]
  },
  {
   "cell_type": "code",
   "execution_count": null,
   "metadata": {},
   "outputs": [],
   "source": [
    "x_test , y_test = np.array(x_test) , np.array(y_test)"
   ]
  },
  {
   "cell_type": "code",
   "execution_count": null,
   "metadata": {},
   "outputs": [],
   "source": [
    "x_test = x_test[:, :, newaxis]"
   ]
  },
  {
   "cell_type": "code",
   "execution_count": null,
   "metadata": {},
   "outputs": [],
   "source": [
    "x_test.shape , y_test.shape , type(x_test) , type(y_test)"
   ]
  },
  {
   "cell_type": "code",
   "execution_count": null,
   "metadata": {},
   "outputs": [],
   "source": [
    "y_pred = regressior.predict(x_test)"
   ]
  },
  {
   "cell_type": "code",
   "execution_count": null,
   "metadata": {},
   "outputs": [],
   "source": [
    "def graph(list):\n",
    "    graph = []\n",
    "    for i in range(len(list)):\n",
    "        if i == 0:\n",
    "            graph.append(list[0])\n",
    "        else:\n",
    "            graph.append(graph[-1]+list[i])\n",
    "    return(graph)"
   ]
  },
  {
   "cell_type": "code",
   "execution_count": null,
   "metadata": {},
   "outputs": [],
   "source": [
    "y_pred = list(y_pred)\n",
    "y_test = list(y_test)"
   ]
  },
  {
   "cell_type": "code",
   "execution_count": null,
   "metadata": {},
   "outputs": [],
   "source": [
    "y_test_graph = graph(y_test)\n",
    "y_pred_graph = graph(y_pred)"
   ]
  },
  {
   "cell_type": "code",
   "execution_count": null,
   "metadata": {},
   "outputs": [],
   "source": [
    "plt.figure(figsize=(14,5))\n",
    "plt.plot(y_test_graph,color='red')\n",
    "plt.plot(y_pred_graph,color='blue')\n",
    "plt.show()"
   ]
  },
  {
   "cell_type": "code",
   "execution_count": null,
   "metadata": {},
   "outputs": [],
   "source": [
    "error = []\n",
    "for i in range(len(y_pred)):\n",
    "    err = abs(y_pred[i]-y_test[i])\n",
    "    error.append(err)\n",
    "f_error = sum(error)/len(y_pred)\n",
    "print(f_error)"
   ]
  },
  {
   "cell_type": "code",
   "execution_count": null,
   "metadata": {},
   "outputs": [],
   "source": [
    "[0.7652131]"
   ]
  },
  {
   "cell_type": "code",
   "execution_count": null,
   "metadata": {},
   "outputs": [],
   "source": []
  }
 ],
 "metadata": {
  "kernelspec": {
   "display_name": "Python 3",
   "language": "python",
   "name": "python3"
  },
  "language_info": {
   "codemirror_mode": {
    "name": "ipython",
    "version": 3
   },
   "file_extension": ".py",
   "mimetype": "text/x-python",
   "name": "python",
   "nbconvert_exporter": "python",
   "pygments_lexer": "ipython3",
   "version": "3.6.9"
  }
 },
 "nbformat": 4,
 "nbformat_minor": 4
}
