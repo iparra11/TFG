{
 "cells": [
  {
   "cell_type": "code",
   "execution_count": 962,
   "metadata": {
    "scrolled": false
   },
   "outputs": [
    {
     "name": "stdout",
     "output_type": "stream",
     "text": [
      "Time : 85.07414746284485\n"
     ]
    }
   ],
   "source": [
    "import pandas as pd\n",
    "import numpy as np\n",
    "import matplotlib.pyplot as plt\n",
    "from sklearn.preprocessing import StandardScaler , MinMaxScaler\n",
    "import time\n",
    "\n",
    "import numpy as np\n",
    "from numpy import zeros, newaxis\n",
    "import tensorflow as tf\n",
    "from tensorflow import keras\n",
    "from tensorflow.keras import layers\n",
    "from tensorflow.keras import Sequential\n",
    "from tensorflow.keras.layers import Dense , SimpleRNN , LSTM , Dropout\n",
    "\n",
    "t_0 = time.time()\n",
    "data = pd.read_csv (r'train.csv',nrows=1000000)   #,nrows=\n",
    "t_1 = time.time()\n",
    "print(f'Time : {t_1-t_0}')"
   ]
  },
  {
   "cell_type": "code",
   "execution_count": 963,
   "metadata": {},
   "outputs": [],
   "source": [
    "training_data = data[data['investment_id']<200]\n",
    "test_data = data[(data['investment_id']>=200) & (data['investment_id']<=250)]\n",
    "\n",
    "training_data = training_data.drop(['row_id' , 'time_id' , 'investment_id' , 'target'], axis=1)\n",
    "test_data = test_data.drop(['row_id' , 'time_id' , 'investment_id' , 'target'], axis=1)\n",
    "training_data.reset_index(drop=True, inplace=True)\n",
    "test_data.reset_index(drop=True, inplace=True)"
   ]
  },
  {
   "cell_type": "code",
   "execution_count": 964,
   "metadata": {},
   "outputs": [],
   "source": [
    "x_train = []\n",
    "y_train = []"
   ]
  },
  {
   "cell_type": "code",
   "execution_count": 965,
   "metadata": {},
   "outputs": [],
   "source": [
    "for j in range(training_data.shape[0]):\n",
    "    for i in range(299,training_data.shape[1]):\n",
    "        x_train.append(training_data.loc[j][i-299:i])\n",
    "        y_train.append(training_data.loc[j][i])"
   ]
  },
  {
   "cell_type": "code",
   "execution_count": 966,
   "metadata": {},
   "outputs": [],
   "source": [
    "x_train , y_train = np.array(x_train) , np.array(y_train)\n",
    "x_train = x_train[:, newaxis, :]"
   ]
  },
  {
   "cell_type": "code",
   "execution_count": 967,
   "metadata": {},
   "outputs": [
    {
     "data": {
      "text/plain": [
       "((52017, 1, 299), (52017,), numpy.ndarray, numpy.ndarray)"
      ]
     },
     "execution_count": 967,
     "metadata": {},
     "output_type": "execute_result"
    }
   ],
   "source": [
    "x_train.shape , y_train.shape , type(x_train) , type(y_train)"
   ]
  },
  {
   "cell_type": "code",
   "execution_count": 968,
   "metadata": {},
   "outputs": [],
   "source": [
    "model = Sequential()\n",
    "\n",
    "model.add(SimpleRNN(units = 1, input_shape=(x_train.shape[1:]), activation='tanh'))\n",
    "\n",
    "model.add(Dense(8 , activation = 'tanh'))\n",
    "\n",
    "model.add(Dense(1))\n",
    "\n",
    "model.compile(loss = 'mean_squared_error', optimizer = 'Adam')\n",
    "\n",
    "\n"
   ]
  },
  {
   "cell_type": "code",
   "execution_count": 969,
   "metadata": {},
   "outputs": [
    {
     "name": "stdout",
     "output_type": "stream",
     "text": [
      "Model: \"sequential_66\"\n",
      "_________________________________________________________________\n",
      "Layer (type)                 Output Shape              Param #   \n",
      "=================================================================\n",
      "simple_rnn_64 (SimpleRNN)    (None, 1)                 301       \n",
      "_________________________________________________________________\n",
      "dense_150 (Dense)            (None, 8)                 16        \n",
      "_________________________________________________________________\n",
      "dense_151 (Dense)            (None, 1)                 9         \n",
      "=================================================================\n",
      "Total params: 326\n",
      "Trainable params: 326\n",
      "Non-trainable params: 0\n",
      "_________________________________________________________________\n"
     ]
    }
   ],
   "source": [
    "model.summary()"
   ]
  },
  {
   "cell_type": "code",
   "execution_count": 970,
   "metadata": {},
   "outputs": [],
   "source": [
    "model.compile(optimizer = 'Adam', loss = 'mean_squared_error')"
   ]
  },
  {
   "cell_type": "code",
   "execution_count": 971,
   "metadata": {},
   "outputs": [
    {
     "name": "stdout",
     "output_type": "stream",
     "text": [
      "Epoch 1/10\n",
      "1626/1626 [==============================] - 2s 1ms/step - loss: 0.4473\n",
      "Epoch 2/10\n",
      "1626/1626 [==============================] - 2s 1ms/step - loss: 0.2873\n",
      "Epoch 3/10\n",
      "1626/1626 [==============================] - 2s 1ms/step - loss: 0.2520\n",
      "Epoch 4/10\n",
      "1626/1626 [==============================] - 2s 1ms/step - loss: 0.2377\n",
      "Epoch 5/10\n",
      "1626/1626 [==============================] - 2s 1ms/step - loss: 0.2305\n",
      "Epoch 6/10\n",
      "1626/1626 [==============================] - 2s 1ms/step - loss: 0.2305\n",
      "Epoch 7/10\n",
      "1626/1626 [==============================] - 2s 1ms/step - loss: 0.2291\n",
      "Epoch 8/10\n",
      "1626/1626 [==============================] - 2s 1ms/step - loss: 0.2296\n",
      "Epoch 9/10\n",
      "1626/1626 [==============================] - 2s 1ms/step - loss: 0.2303\n",
      "Epoch 10/10\n",
      "1626/1626 [==============================] - 2s 1ms/step - loss: 0.2260\n",
      "Time : 20.154067516326904\n"
     ]
    }
   ],
   "source": [
    "t_0 = time.time()\n",
    "model.fit(x_train, y_train, epochs=10, batch_size=32)\n",
    "t_1 = time.time()\n",
    "print(f'Time : {t_1-t_0}')"
   ]
  },
  {
   "cell_type": "code",
   "execution_count": 972,
   "metadata": {},
   "outputs": [],
   "source": [
    "x_test = []\n",
    "y_test = []"
   ]
  },
  {
   "cell_type": "code",
   "execution_count": 973,
   "metadata": {},
   "outputs": [],
   "source": [
    "for j in range(test_data.shape[0]):\n",
    "    for i in range(299,test_data.shape[1]):\n",
    "        x_test.append(test_data.loc[j][i-299:i])\n",
    "        y_test.append(test_data.loc[j][i])"
   ]
  },
  {
   "cell_type": "code",
   "execution_count": 974,
   "metadata": {},
   "outputs": [],
   "source": [
    "x_test , y_test = np.array(x_test) , np.array(y_test)\n",
    "x_test = x_test[:, newaxis, :]"
   ]
  },
  {
   "cell_type": "code",
   "execution_count": 975,
   "metadata": {},
   "outputs": [
    {
     "data": {
      "text/plain": [
       "((12855, 1, 299), (12855,), numpy.ndarray, numpy.ndarray)"
      ]
     },
     "execution_count": 975,
     "metadata": {},
     "output_type": "execute_result"
    }
   ],
   "source": [
    "x_test.shape , y_test.shape , type(x_test) , type(y_test)"
   ]
  },
  {
   "cell_type": "code",
   "execution_count": 976,
   "metadata": {},
   "outputs": [],
   "source": [
    "y_pred = model.predict(x_test)\n"
   ]
  },
  {
   "cell_type": "code",
   "execution_count": 977,
   "metadata": {},
   "outputs": [],
   "source": [
    "def graph(list):\n",
    "    graph = []\n",
    "    for i in range(len(list)):\n",
    "        if i == 0:\n",
    "            graph.append(list[0])\n",
    "        else:\n",
    "            graph.append(graph[-1]+list[i])\n",
    "    return(graph)"
   ]
  },
  {
   "cell_type": "code",
   "execution_count": 978,
   "metadata": {},
   "outputs": [],
   "source": [
    "y_pred = list(y_pred)\n",
    "y_test = list(y_test)"
   ]
  },
  {
   "cell_type": "code",
   "execution_count": 979,
   "metadata": {},
   "outputs": [],
   "source": [
    "y_test_graph = graph(y_test)\n",
    "y_pred_graph = graph(y_pred)\n"
   ]
  },
  {
   "cell_type": "code",
   "execution_count": 980,
   "metadata": {},
   "outputs": [
    {
     "data": {
      "image/png": "[encoded data removed]",
      "text/plain": [
       "<Figure size 1008x360 with 1 Axes>"
      ]
     },
     "metadata": {
      "needs_background": "light"
     },
     "output_type": "display_data"
    }
   ],
   "source": [
    "plt.figure(figsize=(14,5))\n",
    "plt.plot(y_test_graph,color='red')\n",
    "plt.plot(y_pred_graph,color='blue')\n",
    "plt.show()"
   ]
  },
  {
   "cell_type": "code",
   "execution_count": 981,
   "metadata": {},
   "outputs": [
    {
     "name": "stdout",
     "output_type": "stream",
     "text": [
      "[0.30705538]\n"
     ]
    }
   ],
   "source": [
    "error = []\n",
    "for i in range(len(y_pred)):\n",
    "    err = abs(y_pred[i]-y_test[i])\n",
    "    error.append(err)\n",
    "f_error = sum(error)/len(y_pred)\n",
    "print(f_error)"
   ]
  },
  {
   "cell_type": "code",
   "execution_count": null,
   "metadata": {},
   "outputs": [],
   "source": []
  }
 ],
 "metadata": {
  "kernelspec": {
   "display_name": "Python 3",
   "language": "python",
   "name": "python3"
  },
  "language_info": {
   "codemirror_mode": {
    "name": "ipython",
    "version": 3
   },
   "file_extension": ".py",
   "mimetype": "text/x-python",
   "name": "python",
   "nbconvert_exporter": "python",
   "pygments_lexer": "ipython3",
   "version": "3.6.9"
  }
 },
 "nbformat": 4,
 "nbformat_minor": 4
}
