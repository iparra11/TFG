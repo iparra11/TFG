{
 "cells": [
  {
   "cell_type": "code",
   "execution_count": 309,
   "metadata": {
    "scrolled": true
   },
   "outputs": [
    {
     "name": "stdout",
     "output_type": "stream",
     "text": [
      "Time : 98.36241316795349\n"
     ]
    }
   ],
   "source": [
    "import pandas as pd\n",
    "import numpy as np\n",
    "import matplotlib.pyplot as plt\n",
    "from sklearn.preprocessing import StandardScaler , MinMaxScaler\n",
    "import time\n",
    "\n",
    "import numpy as np\n",
    "from numpy import zeros, newaxis\n",
    "import tensorflow as tf\n",
    "from tensorflow import keras\n",
    "from tensorflow.keras import layers\n",
    "from tensorflow.keras import Sequential\n",
    "from tensorflow.keras.layers import Dense , LSTM , Dropout\n",
    "\n",
    "t_0 = time.time()\n",
    "data = pd.read_csv (r'train.csv') #,nrows=1000000\n",
    "t_1 = time.time()\n",
    "print(f'Time : {t_1-t_0}')"
   ]
  },
  {
   "cell_type": "code",
   "execution_count": 310,
   "metadata": {},
   "outputs": [],
   "source": [
    "training_data = data[data['investment_id']<1200]\n",
    "test_data = data[(data['investment_id']>=1200) & (data['investment_id']<=1500)]\n",
    "\n",
    "training_data = training_data.drop(['row_id' , 'time_id' , 'investment_id' , 'target'], axis=1)\n",
    "test_data = test_data.drop(['row_id' , 'time_id' , 'investment_id' , 'target'], axis=1)\n",
    "training_data.reset_index(drop=True, inplace=True)\n",
    "test_data.reset_index(drop=True, inplace=True)"
   ]
  },
  {
   "cell_type": "code",
   "execution_count": 311,
   "metadata": {},
   "outputs": [],
   "source": [
    "#scaler = StandardScaler()\n",
    "#training_data = scaler.fit_transform(training_data)\n",
    "#training_data.shape[1]"
   ]
  },
  {
   "cell_type": "code",
   "execution_count": 312,
   "metadata": {},
   "outputs": [],
   "source": [
    "x_train = []\n",
    "y_train = []"
   ]
  },
  {
   "cell_type": "code",
   "execution_count": 313,
   "metadata": {},
   "outputs": [],
   "source": [
    "for j in range(training_data.shape[0]):\n",
    "    for i in range(299,training_data.shape[1]):\n",
    "        x_train.append(training_data.loc[j][i-299:i])\n",
    "        y_train.append(training_data.loc[j][i])"
   ]
  },
  {
   "cell_type": "code",
   "execution_count": 314,
   "metadata": {},
   "outputs": [],
   "source": [
    "x_train , y_train = np.array(x_train) , np.array(y_train)\n",
    "x_train = x_train[:, newaxis, :]"
   ]
  },
  {
   "cell_type": "code",
   "execution_count": 315,
   "metadata": {},
   "outputs": [
    {
     "data": {
      "text/plain": [
       "((322150, 1, 299), (322150,), numpy.ndarray, numpy.ndarray)"
      ]
     },
     "execution_count": 315,
     "metadata": {},
     "output_type": "execute_result"
    }
   ],
   "source": [
    "x_train.shape , y_train.shape , type(x_train) , type(y_train)"
   ]
  },
  {
   "cell_type": "code",
   "execution_count": 316,
   "metadata": {},
   "outputs": [],
   "source": [
    "regressior = Sequential()\n",
    "               \n",
    "regressior.add(LSTM(units = 50, activation = 'sigmoid', return_sequences = True, input_shape=(x_train.shape[1:])))\n",
    "regressior.add(Dropout(0.2))\n",
    "\n",
    "regressior.add(LSTM(units = 60, activation = 'sigmoid', return_sequences = True))\n",
    "regressior.add(Dropout(0.3))\n",
    "\n",
    "regressior.add(LSTM(units = 80, activation = 'sigmoid', return_sequences = True))\n",
    "regressior.add(Dropout(0.4))\n",
    "\n",
    "regressior.add(LSTM(units = 120, activation = 'sigmoid', ))\n",
    "regressior.add(Dropout(0.5))\n",
    "\n",
    "regressior.add(Dense(units = 1))"
   ]
  },
  {
   "cell_type": "code",
   "execution_count": 317,
   "metadata": {},
   "outputs": [
    {
     "name": "stdout",
     "output_type": "stream",
     "text": [
      "Model: \"sequential_17\"\n",
      "_________________________________________________________________\n",
      "Layer (type)                 Output Shape              Param #   \n",
      "=================================================================\n",
      "lstm_65 (LSTM)               (None, 1, 50)             70000     \n",
      "_________________________________________________________________\n",
      "dropout_64 (Dropout)         (None, 1, 50)             0         \n",
      "_________________________________________________________________\n",
      "lstm_66 (LSTM)               (None, 1, 60)             26640     \n",
      "_________________________________________________________________\n",
      "dropout_65 (Dropout)         (None, 1, 60)             0         \n",
      "_________________________________________________________________\n",
      "lstm_67 (LSTM)               (None, 1, 80)             45120     \n",
      "_________________________________________________________________\n",
      "dropout_66 (Dropout)         (None, 1, 80)             0         \n",
      "_________________________________________________________________\n",
      "lstm_68 (LSTM)               (None, 120)               96480     \n",
      "_________________________________________________________________\n",
      "dropout_67 (Dropout)         (None, 120)               0         \n",
      "_________________________________________________________________\n",
      "dense_16 (Dense)             (None, 1)                 121       \n",
      "=================================================================\n",
      "Total params: 238,361\n",
      "Trainable params: 238,361\n",
      "Non-trainable params: 0\n",
      "_________________________________________________________________\n"
     ]
    }
   ],
   "source": [
    "regressior.summary()"
   ]
  },
  {
   "cell_type": "code",
   "execution_count": 318,
   "metadata": {},
   "outputs": [],
   "source": [
    "regressior.compile(optimizer = 'adam', loss = 'mean_squared_error')"
   ]
  },
  {
   "cell_type": "code",
   "execution_count": 319,
   "metadata": {},
   "outputs": [
    {
     "name": "stdout",
     "output_type": "stream",
     "text": [
      "Epoch 1/10\n",
      "10068/10068 [==============================] - 132s 13ms/step - loss: 0.3305\n",
      "Epoch 2/10\n",
      "10068/10068 [==============================] - 133s 13ms/step - loss: 0.2614\n",
      "Epoch 3/10\n",
      "10068/10068 [==============================] - 132s 13ms/step - loss: 0.2417\n",
      "Epoch 4/10\n",
      "10068/10068 [==============================] - 132s 13ms/step - loss: 0.2278\n",
      "Epoch 5/10\n",
      "10068/10068 [==============================] - 132s 13ms/step - loss: 0.2241\n",
      "Epoch 6/10\n",
      "10068/10068 [==============================] - 132s 13ms/step - loss: 0.2171\n",
      "Epoch 7/10\n",
      "10068/10068 [==============================] - 132s 13ms/step - loss: 0.2094\n",
      "Epoch 8/10\n",
      "10068/10068 [==============================] - 132s 13ms/step - loss: 0.2062\n",
      "Epoch 9/10\n",
      "10068/10068 [==============================] - 133s 13ms/step - loss: 0.2028\n",
      "Epoch 10/10\n",
      "10068/10068 [==============================] - 132s 13ms/step - loss: 0.1979\n",
      "Time : 1326.8864064216614\n"
     ]
    }
   ],
   "source": [
    "t_0 = time.time()\n",
    "regressior.fit(x_train, y_train, epochs=10, batch_size=32)\n",
    "t_1 = time.time()\n",
    "print(f'Time : {t_1-t_0}')"
   ]
  },
  {
   "cell_type": "code",
   "execution_count": 320,
   "metadata": {},
   "outputs": [],
   "source": [
    "x_test = []\n",
    "y_test = []"
   ]
  },
  {
   "cell_type": "code",
   "execution_count": 321,
   "metadata": {},
   "outputs": [],
   "source": [
    "for j in range(test_data.shape[0]):\n",
    "    for i in range(299,test_data.shape[1]):\n",
    "        x_test.append(test_data.loc[j][i-299:i])\n",
    "        y_test.append(test_data.loc[j][i])"
   ]
  },
  {
   "cell_type": "code",
   "execution_count": 322,
   "metadata": {},
   "outputs": [],
   "source": [
    "x_test , y_test = np.array(x_test) , np.array(y_test)\n",
    "x_test = x_test[:, newaxis, :]"
   ]
  },
  {
   "cell_type": "code",
   "execution_count": 323,
   "metadata": {},
   "outputs": [
    {
     "data": {
      "text/plain": [
       "((77287, 1, 299), (77287,), numpy.ndarray, numpy.ndarray)"
      ]
     },
     "execution_count": 323,
     "metadata": {},
     "output_type": "execute_result"
    }
   ],
   "source": [
    "x_test.shape , y_test.shape , type(x_test) , type(y_test)"
   ]
  },
  {
   "cell_type": "code",
   "execution_count": 324,
   "metadata": {
    "scrolled": true
   },
   "outputs": [],
   "source": [
    "y_pred = regressior.predict(x_test)"
   ]
  },
  {
   "cell_type": "code",
   "execution_count": 325,
   "metadata": {},
   "outputs": [],
   "source": [
    "def graph(list):\n",
    "    graph = []\n",
    "    for i in range(len(list)):\n",
    "        if i == 0:\n",
    "            graph.append(list[0])\n",
    "        else:\n",
    "            graph.append(graph[-1]+list[i])\n",
    "    return(graph)"
   ]
  },
  {
   "cell_type": "code",
   "execution_count": 326,
   "metadata": {},
   "outputs": [],
   "source": [
    "y_pred = list(y_pred)\n",
    "y_test = list(y_test)"
   ]
  },
  {
   "cell_type": "code",
   "execution_count": 327,
   "metadata": {},
   "outputs": [],
   "source": [
    "y_test_graph = graph(y_test)\n",
    "y_pred_graph = graph(y_pred)"
   ]
  },
  {
   "cell_type": "code",
   "execution_count": 328,
   "metadata": {},
   "outputs": [
    {
     "data": {
      "image/png": "[encoded data removed]",
      "text/plain": [
       "<Figure size 1008x360 with 1 Axes>"
      ]
     },
     "metadata": {
      "needs_background": "light"
     },
     "output_type": "display_data"
    }
   ],
   "source": [
    "plt.figure(figsize=(14,5))\n",
    "plt.plot(y_test_graph,color='red')\n",
    "plt.plot(y_pred_graph,color='blue')\n",
    "plt.show()"
   ]
  },
  {
   "cell_type": "code",
   "execution_count": 329,
   "metadata": {},
   "outputs": [
    {
     "name": "stdout",
     "output_type": "stream",
     "text": [
      "[0.22681276]\n"
     ]
    }
   ],
   "source": [
    "error = []\n",
    "for i in range(len(y_pred)):\n",
    "    err = abs(y_pred[i]-y_test[i])\n",
    "    error.append(err)\n",
    "f_error = sum(error)/len(y_pred)\n",
    "print(f_error)"
   ]
  }
 ],
 "metadata": {
  "kernelspec": {
   "display_name": "Python 3",
   "language": "python",
   "name": "python3"
  },
  "language_info": {
   "codemirror_mode": {
    "name": "ipython",
    "version": 3
   },
   "file_extension": ".py",
   "mimetype": "text/x-python",
   "name": "python",
   "nbconvert_exporter": "python",
   "pygments_lexer": "ipython3",
   "version": "3.6.9"
  }
 },
 "nbformat": 4,
 "nbformat_minor": 4
}
